{
 "cells": [
  {
   "cell_type": "markdown",
   "metadata": {},
   "source": [
    "# Budget Analysis\n",
    "\n",
    "---\n",
    "\n",
    "## Environment Setup"
   ]
  },
  {
   "cell_type": "code",
   "execution_count": 1,
   "metadata": {},
   "outputs": [],
   "source": [
    "# Initial Imports\n",
    "import os\n",
    "import plaid\n",
    "import requests\n",
    "import datetime\n",
    "import json\n",
    "import pandas as pd\n",
    "#from dotenv import load_dotenv\n",
    "\n",
    "%matplotlib inline"
   ]
  },
  {
   "cell_type": "code",
   "execution_count": 2,
   "metadata": {},
   "outputs": [],
   "source": [
    "# Helper functions\n",
    "\n",
    "def pretty_print_response(response):\n",
    "    \"\"\"\n",
    "    This function formats a JSON file to pretty printing it in the screen.\n",
    "    \"\"\"\n",
    "    print(json.dumps(response, indent=4, sort_keys=True))"
   ]
  },
  {
   "cell_type": "code",
   "execution_count": null,
   "metadata": {},
   "outputs": [],
   "source": [
    "# Set environment variables from the .env file\n",
    "#load_dotenv()"
   ]
  },
  {
   "cell_type": "code",
   "execution_count": 3,
   "metadata": {},
   "outputs": [],
   "source": [
    "# Extract API keys from environment variables\n",
    "PLAID_CLIENT_ID = \n",
    "PLAID_SECRET = \n",
    "PLAID_PUBLIC_KEY = "
   ]
  },
  {
   "cell_type": "markdown",
   "metadata": {},
   "source": [
    "---\n",
    "\n",
    "## Plaid Access Token\n",
    "\n",
    "In this section, you will use the `plaid-python` API to generate the correct authentication tokens to access data in the free developer Sandbox. This mimics how you might connect to your own account or a customer account, but due to privacy issues, this homework will only require connecting to and analyzing the fake data from the developer sandbox that Plaid provides. \n",
    "\n",
    "Complete the following steps to generate an access token:\n",
    "\n",
    "1. Create a client to connect to plaid\n",
    "\n",
    "2. Use the client to generate a public token and request the following items: ['transactions', 'income', 'assets']\n",
    "\n",
    "3. Exchange the public token for an access token\n",
    "\n",
    "4. Test the access token by requesting and printing the available test accounts"
   ]
  },
  {
   "cell_type": "markdown",
   "metadata": {},
   "source": [
    "### 1. Create a client to connect to plaid"
   ]
  },
  {
   "cell_type": "code",
   "execution_count": 5,
   "metadata": {},
   "outputs": [],
   "source": [
    "# Create the client object\n",
    "from plaid import Client\n",
    "client= plaid.Client(client_id=PLAID_CLIENT_ID, secret=PLAID_SECRET, environment='sandbox')"
   ]
  },
  {
   "cell_type": "code",
   "execution_count": 6,
   "metadata": {},
   "outputs": [],
   "source": [
    "# Set the institution id\n",
    "INSITUTION_ID = \"ins_109508\""
   ]
  },
  {
   "cell_type": "markdown",
   "metadata": {},
   "source": [
    "### 2. Generate a public token"
   ]
  },
  {
   "cell_type": "code",
   "execution_count": 8,
   "metadata": {},
   "outputs": [
    {
     "name": "stdout",
     "output_type": "stream",
     "text": [
      "{'public_token': 'public-sandbox-80547af3-10ce-4c15-8105-61462f9cbcfc', 'request_id': 'kB48yLe936gKnuq'}\n"
     ]
    }
   ],
   "source": [
    "# Create the public token\n",
    "create_tkn_response = client.Sandbox.public_token.create(INSITUTION_ID, ['transactions', 'income','assets'])\n",
    "# Print the public token\n",
    "print(create_tkn_response)"
   ]
  },
  {
   "cell_type": "markdown",
   "metadata": {},
   "source": [
    "### 3. Exchange the public token for an access token"
   ]
  },
  {
   "cell_type": "code",
   "execution_count": 9,
   "metadata": {},
   "outputs": [
    {
     "name": "stdout",
     "output_type": "stream",
     "text": [
      "{'access_token': 'access-sandbox-0df737c5-a11b-4400-ae83-ebf72f96fe54', 'item_id': '3p8bXJ6j18Tr3x4KE4LWSEGLr1a8nKTZZZv66', 'request_id': 'BHtaIvI9IvYpfgO'}\n"
     ]
    }
   ],
   "source": [
    "# Retrieve the access token\n",
    "exchange_response = client.Item.public_token.exchange(create_tkn_response['public_token'])\n",
    "\n",
    "# Print the access toke\n",
    "print(exchange_response)"
   ]
  },
  {
   "cell_type": "code",
   "execution_count": 10,
   "metadata": {},
   "outputs": [],
   "source": [
    "# Store the access token in a Python variable\n",
    "access_token= exchange_response['access_token']"
   ]
  },
  {
   "cell_type": "markdown",
   "metadata": {},
   "source": [
    "### 4. Fetch Accounts"
   ]
  },
  {
   "cell_type": "code",
   "execution_count": 11,
   "metadata": {},
   "outputs": [
    {
     "name": "stdout",
     "output_type": "stream",
     "text": [
      "{\n",
      "    \"accounts\": [\n",
      "        {\n",
      "            \"account_id\": \"P5PWZ7g3zPCwygMKEMz8SPGKJBX6ret75b7DG\",\n",
      "            \"balances\": {\n",
      "                \"available\": 100,\n",
      "                \"current\": 110,\n",
      "                \"iso_currency_code\": \"USD\",\n",
      "                \"limit\": null,\n",
      "                \"unofficial_currency_code\": null\n",
      "            },\n",
      "            \"mask\": \"0000\",\n",
      "            \"name\": \"Plaid Checking\",\n",
      "            \"official_name\": \"Plaid Gold Standard 0% Interest Checking\",\n",
      "            \"subtype\": \"checking\",\n",
      "            \"type\": \"depository\"\n",
      "        },\n",
      "        {\n",
      "            \"account_id\": \"jlD5m7xyEDhmvqDaMDLJIWqNXMja8ph1mk15D\",\n",
      "            \"balances\": {\n",
      "                \"available\": 200,\n",
      "                \"current\": 210,\n",
      "                \"iso_currency_code\": \"USD\",\n",
      "                \"limit\": null,\n",
      "                \"unofficial_currency_code\": null\n",
      "            },\n",
      "            \"mask\": \"1111\",\n",
      "            \"name\": \"Plaid Saving\",\n",
      "            \"official_name\": \"Plaid Silver Standard 0.1% Interest Saving\",\n",
      "            \"subtype\": \"savings\",\n",
      "            \"type\": \"depository\"\n",
      "        },\n",
      "        {\n",
      "            \"account_id\": \"7EGb5XwZqGSB4q7LQ7VWfx54NwXqkDCgyzgWm\",\n",
      "            \"balances\": {\n",
      "                \"available\": null,\n",
      "                \"current\": 1000,\n",
      "                \"iso_currency_code\": \"USD\",\n",
      "                \"limit\": null,\n",
      "                \"unofficial_currency_code\": null\n",
      "            },\n",
      "            \"mask\": \"2222\",\n",
      "            \"name\": \"Plaid CD\",\n",
      "            \"official_name\": \"Plaid Bronze Standard 0.2% Interest CD\",\n",
      "            \"subtype\": \"cd\",\n",
      "            \"type\": \"depository\"\n",
      "        },\n",
      "        {\n",
      "            \"account_id\": \"e59XxwKAE9CqVWdR3dzKhXNkAGlJ6BiLBKLNl\",\n",
      "            \"balances\": {\n",
      "                \"available\": null,\n",
      "                \"current\": 410,\n",
      "                \"iso_currency_code\": \"USD\",\n",
      "                \"limit\": 2000,\n",
      "                \"unofficial_currency_code\": null\n",
      "            },\n",
      "            \"mask\": \"3333\",\n",
      "            \"name\": \"Plaid Credit Card\",\n",
      "            \"official_name\": \"Plaid Diamond 12.5% APR Interest Credit Card\",\n",
      "            \"subtype\": \"credit card\",\n",
      "            \"type\": \"credit\"\n",
      "        },\n",
      "        {\n",
      "            \"account_id\": \"Q5jMGZ8xBjCDXWA4QAoySjErwaNg4Gtp6LpxE\",\n",
      "            \"balances\": {\n",
      "                \"available\": 43200,\n",
      "                \"current\": 43200,\n",
      "                \"iso_currency_code\": \"USD\",\n",
      "                \"limit\": null,\n",
      "                \"unofficial_currency_code\": null\n",
      "            },\n",
      "            \"mask\": \"4444\",\n",
      "            \"name\": \"Plaid Money Market\",\n",
      "            \"official_name\": \"Plaid Platinum Standard 1.85% Interest Money Market\",\n",
      "            \"subtype\": \"money market\",\n",
      "            \"type\": \"depository\"\n",
      "        },\n",
      "        {\n",
      "            \"account_id\": \"Z5oMyB9Q7oCNVbADyAmMhglPnx961Msgmwg5X\",\n",
      "            \"balances\": {\n",
      "                \"available\": null,\n",
      "                \"current\": 320.76,\n",
      "                \"iso_currency_code\": \"USD\",\n",
      "                \"limit\": null,\n",
      "                \"unofficial_currency_code\": null\n",
      "            },\n",
      "            \"mask\": \"5555\",\n",
      "            \"name\": \"Plaid IRA\",\n",
      "            \"official_name\": null,\n",
      "            \"subtype\": \"ira\",\n",
      "            \"type\": \"investment\"\n",
      "        },\n",
      "        {\n",
      "            \"account_id\": \"M5a4NPLrqaCBwLNvJNqxfabVoJ47j3U9pA9By\",\n",
      "            \"balances\": {\n",
      "                \"available\": null,\n",
      "                \"current\": 23631.9805,\n",
      "                \"iso_currency_code\": \"USD\",\n",
      "                \"limit\": null,\n",
      "                \"unofficial_currency_code\": null\n",
      "            },\n",
      "            \"mask\": \"6666\",\n",
      "            \"name\": \"Plaid 401k\",\n",
      "            \"official_name\": null,\n",
      "            \"subtype\": \"401k\",\n",
      "            \"type\": \"investment\"\n",
      "        },\n",
      "        {\n",
      "            \"account_id\": \"11oVMWvNZoT8zDXygXpnhrlvnm6NE4C5Xy5gr\",\n",
      "            \"balances\": {\n",
      "                \"available\": null,\n",
      "                \"current\": 65262,\n",
      "                \"iso_currency_code\": \"USD\",\n",
      "                \"limit\": null,\n",
      "                \"unofficial_currency_code\": null\n",
      "            },\n",
      "            \"mask\": \"7777\",\n",
      "            \"name\": \"Plaid Student Loan\",\n",
      "            \"official_name\": null,\n",
      "            \"subtype\": \"student\",\n",
      "            \"type\": \"loan\"\n",
      "        },\n",
      "        {\n",
      "            \"account_id\": \"L5daNP1KldCqG1MWgMlvhd3ZBAeLR7fPK4PbW\",\n",
      "            \"balances\": {\n",
      "                \"available\": null,\n",
      "                \"current\": 56302.06,\n",
      "                \"iso_currency_code\": \"USD\",\n",
      "                \"limit\": null,\n",
      "                \"unofficial_currency_code\": null\n",
      "            },\n",
      "            \"mask\": \"8888\",\n",
      "            \"name\": \"Plaid Mortgage\",\n",
      "            \"official_name\": null,\n",
      "            \"subtype\": \"mortgage\",\n",
      "            \"type\": \"loan\"\n",
      "        }\n",
      "    ],\n",
      "    \"item\": {\n",
      "        \"available_products\": [\n",
      "            \"auth\",\n",
      "            \"balance\",\n",
      "            \"credit_details\",\n",
      "            \"identity\",\n",
      "            \"investments\",\n",
      "            \"liabilities\"\n",
      "        ],\n",
      "        \"billed_products\": [\n",
      "            \"assets\",\n",
      "            \"income\",\n",
      "            \"transactions\"\n",
      "        ],\n",
      "        \"consent_expiration_time\": null,\n",
      "        \"error\": null,\n",
      "        \"institution_id\": \"ins_109508\",\n",
      "        \"item_id\": \"3p8bXJ6j18Tr3x4KE4LWSEGLr1a8nKTZZZv66\",\n",
      "        \"webhook\": \"\"\n",
      "    },\n",
      "    \"request_id\": \"gFN4cf2vThaSmpX\"\n",
      "}\n"
     ]
    }
   ],
   "source": [
    "# Retrieve accounts\n",
    "accounts=client.Accounts.get(access_token)\n",
    "# Print accounts\n",
    "print(json.dumps(accounts, indent=4, sort_keys=True))"
   ]
  },
  {
   "cell_type": "markdown",
   "metadata": {},
   "source": [
    "---\n",
    "\n",
    "# Account Transactions with Plaid\n",
    "\n",
    "In this section, you will use the Plaid Python SDK to connect to the Developer Sandbox account and grab a list of transactions. You will need to complete the following steps:\n",
    "\n",
    "\n",
    "1. Use the access token to fetch the transactions for the last 90 days\n",
    "\n",
    "2. Print the categories for each transaction type\n",
    "\n",
    "3. Create a new DataFrame using the following fields from the JSON transaction data: `date, name, amount, category`. (For categories with more than one label, just use the first category label in the list)\n",
    "\n",
    "4. Convert the data types to the appropriate types (i.e. datetimeindex for the date and float for the amount)"
   ]
  },
  {
   "cell_type": "markdown",
   "metadata": {},
   "source": [
    "### 1. Fetch the Transactions for the last 90 days"
   ]
  },
  {
   "cell_type": "code",
   "execution_count": 19,
   "metadata": {},
   "outputs": [
    {
     "name": "stdout",
     "output_type": "stream",
     "text": [
      "{\n",
      "    \"account_id\": \"jlD5m7xyEDhmvqDaMDLJIWqNXMja8ph1mk15D\",\n",
      "    \"account_owner\": null,\n",
      "    \"amount\": -4.22,\n",
      "    \"authorized_date\": null,\n",
      "    \"category\": [\n",
      "        \"Transfer\",\n",
      "        \"Credit\"\n",
      "    ],\n",
      "    \"category_id\": \"21005000\",\n",
      "    \"date\": \"2020-09-07\",\n",
      "    \"iso_currency_code\": \"USD\",\n",
      "    \"location\": {\n",
      "        \"address\": null,\n",
      "        \"city\": null,\n",
      "        \"country\": null,\n",
      "        \"lat\": null,\n",
      "        \"lon\": null,\n",
      "        \"postal_code\": null,\n",
      "        \"region\": null,\n",
      "        \"store_number\": null\n",
      "    },\n",
      "    \"merchant_name\": null,\n",
      "    \"name\": \"INTRST PYMNT\",\n",
      "    \"payment_channel\": \"other\",\n",
      "    \"payment_meta\": {\n",
      "        \"by_order_of\": null,\n",
      "        \"payee\": null,\n",
      "        \"payer\": null,\n",
      "        \"payment_method\": null,\n",
      "        \"payment_processor\": null,\n",
      "        \"ppd_id\": null,\n",
      "        \"reason\": null,\n",
      "        \"reference_number\": null\n",
      "    },\n",
      "    \"pending\": false,\n",
      "    \"pending_transaction_id\": null,\n",
      "    \"transaction_code\": null,\n",
      "    \"transaction_id\": \"K5xdNPMqkxCLVMyBky3GuxbxW6Dpx1cVX7KV8\",\n",
      "    \"transaction_type\": \"special\",\n",
      "    \"unofficial_currency_code\": null\n",
      "}\n"
     ]
    }
   ],
   "source": [
    "# Set the start and end date 90 days from today\n",
    "start_date = '{:%Y-%m-%d}'.format(datetime.datetime.now() + datetime.timedelta(-90))\n",
    "end_date = '{:%Y-%m-%d}'.format(datetime.datetime.now())\n",
    "# Retrieve the transactions for the last 90 days\n",
    "transactions_data= client.Transactions.get(access_token, start_date, end_date)\n",
    "# Print the transactions\n",
    "print(json.dumps(transactions, indent=4, sort_keys=True))"
   ]
  },
  {
   "cell_type": "markdown",
   "metadata": {},
   "source": [
    "### 2. Print the categories for each transaction"
   ]
  },
  {
   "cell_type": "code",
   "execution_count": 20,
   "metadata": {},
   "outputs": [
    {
     "name": "stdout",
     "output_type": "stream",
     "text": [
      "[\n",
      "    \"Travel\",\n",
      "    \"Airlines and Aviation Services\"\n",
      "]\n",
      "[\n",
      "    \"Travel\",\n",
      "    \"Taxi\"\n",
      "]\n",
      "[\n",
      "    \"Food and Drink\",\n",
      "    \"Restaurants\"\n",
      "]\n",
      "[\n",
      "    \"Payment\"\n",
      "]\n",
      "[\n",
      "    \"Food and Drink\",\n",
      "    \"Restaurants\",\n",
      "    \"Fast Food\"\n",
      "]\n",
      "[\n",
      "    \"Shops\",\n",
      "    \"Sporting Goods\"\n",
      "]\n",
      "[\n",
      "    \"Payment\",\n",
      "    \"Credit Card\"\n",
      "]\n",
      "[\n",
      "    \"Travel\",\n",
      "    \"Taxi\"\n",
      "]\n",
      "[\n",
      "    \"Transfer\",\n",
      "    \"Debit\"\n",
      "]\n",
      "[\n",
      "    \"Transfer\",\n",
      "    \"Deposit\"\n",
      "]\n",
      "[\n",
      "    \"Recreation\",\n",
      "    \"Gyms and Fitness Centers\"\n",
      "]\n",
      "[\n",
      "    \"Travel\",\n",
      "    \"Airlines and Aviation Services\"\n",
      "]\n",
      "[\n",
      "    \"Food and Drink\",\n",
      "    \"Restaurants\",\n",
      "    \"Fast Food\"\n",
      "]\n",
      "[\n",
      "    \"Food and Drink\",\n",
      "    \"Restaurants\",\n",
      "    \"Coffee Shop\"\n",
      "]\n",
      "[\n",
      "    \"Food and Drink\",\n",
      "    \"Restaurants\"\n",
      "]\n",
      "[\n",
      "    \"Transfer\",\n",
      "    \"Credit\"\n",
      "]\n",
      "[\n",
      "    \"Travel\",\n",
      "    \"Airlines and Aviation Services\"\n",
      "]\n",
      "[\n",
      "    \"Travel\",\n",
      "    \"Taxi\"\n",
      "]\n",
      "[\n",
      "    \"Food and Drink\",\n",
      "    \"Restaurants\"\n",
      "]\n",
      "[\n",
      "    \"Payment\"\n",
      "]\n",
      "[\n",
      "    \"Food and Drink\",\n",
      "    \"Restaurants\",\n",
      "    \"Fast Food\"\n",
      "]\n",
      "[\n",
      "    \"Shops\",\n",
      "    \"Sporting Goods\"\n",
      "]\n",
      "[\n",
      "    \"Payment\",\n",
      "    \"Credit Card\"\n",
      "]\n",
      "[\n",
      "    \"Travel\",\n",
      "    \"Taxi\"\n",
      "]\n",
      "[\n",
      "    \"Transfer\",\n",
      "    \"Debit\"\n",
      "]\n",
      "[\n",
      "    \"Transfer\",\n",
      "    \"Deposit\"\n",
      "]\n",
      "[\n",
      "    \"Recreation\",\n",
      "    \"Gyms and Fitness Centers\"\n",
      "]\n",
      "[\n",
      "    \"Travel\",\n",
      "    \"Airlines and Aviation Services\"\n",
      "]\n",
      "[\n",
      "    \"Food and Drink\",\n",
      "    \"Restaurants\",\n",
      "    \"Fast Food\"\n",
      "]\n",
      "[\n",
      "    \"Food and Drink\",\n",
      "    \"Restaurants\",\n",
      "    \"Coffee Shop\"\n",
      "]\n",
      "[\n",
      "    \"Food and Drink\",\n",
      "    \"Restaurants\"\n",
      "]\n",
      "[\n",
      "    \"Transfer\",\n",
      "    \"Credit\"\n",
      "]\n",
      "[\n",
      "    \"Travel\",\n",
      "    \"Airlines and Aviation Services\"\n",
      "]\n",
      "[\n",
      "    \"Travel\",\n",
      "    \"Taxi\"\n",
      "]\n",
      "[\n",
      "    \"Food and Drink\",\n",
      "    \"Restaurants\"\n",
      "]\n",
      "[\n",
      "    \"Payment\"\n",
      "]\n",
      "[\n",
      "    \"Food and Drink\",\n",
      "    \"Restaurants\",\n",
      "    \"Fast Food\"\n",
      "]\n",
      "[\n",
      "    \"Shops\",\n",
      "    \"Sporting Goods\"\n",
      "]\n",
      "[\n",
      "    \"Payment\",\n",
      "    \"Credit Card\"\n",
      "]\n",
      "[\n",
      "    \"Travel\",\n",
      "    \"Taxi\"\n",
      "]\n",
      "[\n",
      "    \"Transfer\",\n",
      "    \"Debit\"\n",
      "]\n",
      "[\n",
      "    \"Transfer\",\n",
      "    \"Deposit\"\n",
      "]\n",
      "[\n",
      "    \"Recreation\",\n",
      "    \"Gyms and Fitness Centers\"\n",
      "]\n",
      "[\n",
      "    \"Travel\",\n",
      "    \"Airlines and Aviation Services\"\n",
      "]\n",
      "[\n",
      "    \"Food and Drink\",\n",
      "    \"Restaurants\",\n",
      "    \"Fast Food\"\n",
      "]\n",
      "[\n",
      "    \"Food and Drink\",\n",
      "    \"Restaurants\",\n",
      "    \"Coffee Shop\"\n",
      "]\n",
      "[\n",
      "    \"Food and Drink\",\n",
      "    \"Restaurants\"\n",
      "]\n",
      "[\n",
      "    \"Transfer\",\n",
      "    \"Credit\"\n",
      "]\n"
     ]
    }
   ],
   "source": [
    "# Create a for-loop to print the categories for each transaction\n",
    "for transactions in transactions_data['transactions']:\n",
    "    if transactions['category']:\n",
    "        print(json.dumps(transactions['category'], indent=4, sort_keys=True))"
   ]
  },
  {
   "cell_type": "markdown",
   "metadata": {},
   "source": [
    "### 3. Create a new DataFrame using the following fields from the JSON transaction data: `date`, `name`, `amount`, `category`. \n",
    "\n",
    "(For categories with more than one label, just use the first category label in the list)"
   ]
  },
  {
   "cell_type": "code",
   "execution_count": 56,
   "metadata": {},
   "outputs": [
    {
     "data": {
      "text/html": [
       "<div>\n",
       "<style scoped>\n",
       "    .dataframe tbody tr th:only-of-type {\n",
       "        vertical-align: middle;\n",
       "    }\n",
       "\n",
       "    .dataframe tbody tr th {\n",
       "        vertical-align: top;\n",
       "    }\n",
       "\n",
       "    .dataframe thead th {\n",
       "        text-align: right;\n",
       "    }\n",
       "</style>\n",
       "<table border=\"1\" class=\"dataframe\">\n",
       "  <thead>\n",
       "    <tr style=\"text-align: right;\">\n",
       "      <th></th>\n",
       "      <th>date</th>\n",
       "      <th>name</th>\n",
       "      <th>amount</th>\n",
       "      <th>category</th>\n",
       "    </tr>\n",
       "  </thead>\n",
       "  <tbody>\n",
       "    <tr>\n",
       "      <th>0</th>\n",
       "      <td>2020-11-26</td>\n",
       "      <td>United Airlines</td>\n",
       "      <td>500</td>\n",
       "      <td>Travel</td>\n",
       "    </tr>\n",
       "    <tr>\n",
       "      <th>1</th>\n",
       "      <td>2020-11-24</td>\n",
       "      <td>Uber 072515 SF**POOL**</td>\n",
       "      <td>6.33</td>\n",
       "      <td>Travel</td>\n",
       "    </tr>\n",
       "    <tr>\n",
       "      <th>2</th>\n",
       "      <td>2020-11-21</td>\n",
       "      <td>Tectra Inc</td>\n",
       "      <td>500</td>\n",
       "      <td>Food and Drink</td>\n",
       "    </tr>\n",
       "    <tr>\n",
       "      <th>3</th>\n",
       "      <td>2020-11-20</td>\n",
       "      <td>AUTOMATIC PAYMENT - THANK</td>\n",
       "      <td>2078.5</td>\n",
       "      <td>Payment</td>\n",
       "    </tr>\n",
       "    <tr>\n",
       "      <th>4</th>\n",
       "      <td>2020-11-20</td>\n",
       "      <td>KFC</td>\n",
       "      <td>500</td>\n",
       "      <td>Food and Drink</td>\n",
       "    </tr>\n",
       "  </tbody>\n",
       "</table>\n",
       "</div>"
      ],
      "text/plain": [
       "         date                       name  amount        category\n",
       "0  2020-11-26            United Airlines     500          Travel\n",
       "1  2020-11-24     Uber 072515 SF**POOL**    6.33          Travel\n",
       "2  2020-11-21                 Tectra Inc     500  Food and Drink\n",
       "3  2020-11-20  AUTOMATIC PAYMENT - THANK  2078.5         Payment\n",
       "4  2020-11-20                        KFC     500  Food and Drink"
      ]
     },
     "execution_count": 56,
     "metadata": {},
     "output_type": "execute_result"
    }
   ],
   "source": [
    "# Define an empty DataFrame and set the columns as date, name, amount, and category\n",
    "plaid_transaction_df= pd.DataFrame(columns=['date', 'name', 'amount', 'category'])\n",
    "# Retrieve all the transactions\n",
    "transaction_df= transactions_data['transactions']\n",
    "# Populate the transactions DataFrame with the transactions data\n",
    "for index, transaction in enumerate(transaction_df):\n",
    "      plaid_transaction_df.loc[index]=[transaction['date'], transaction['name'], transaction['amount'], transaction['category'][0]]\n",
    "# Display sample data from the DataFrame    \n",
    "plaid_transaction_df.head()"
   ]
  },
  {
   "cell_type": "markdown",
   "metadata": {},
   "source": [
    "### 4. Convert the data types to the appropriate types \n",
    "\n",
    "(i.e. datetimeindex for the date and float for the amount)"
   ]
  },
  {
   "cell_type": "code",
   "execution_count": 39,
   "metadata": {},
   "outputs": [
    {
     "data": {
      "text/plain": [
       "date        object\n",
       "name        object\n",
       "amount      object\n",
       "category    object\n",
       "dtype: object"
      ]
     },
     "execution_count": 39,
     "metadata": {},
     "output_type": "execute_result"
    }
   ],
   "source": [
    "# Display data types\n",
    "plaid_transaction_df.dtypes"
   ]
  },
  {
   "cell_type": "code",
   "execution_count": null,
   "metadata": {},
   "outputs": [],
   "source": [
    "# Make any required data type transformation\n"
   ]
  },
  {
   "cell_type": "code",
   "execution_count": 57,
   "metadata": {},
   "outputs": [
    {
     "data": {
      "text/html": [
       "<div>\n",
       "<style scoped>\n",
       "    .dataframe tbody tr th:only-of-type {\n",
       "        vertical-align: middle;\n",
       "    }\n",
       "\n",
       "    .dataframe tbody tr th {\n",
       "        vertical-align: top;\n",
       "    }\n",
       "\n",
       "    .dataframe thead th {\n",
       "        text-align: right;\n",
       "    }\n",
       "</style>\n",
       "<table border=\"1\" class=\"dataframe\">\n",
       "  <thead>\n",
       "    <tr style=\"text-align: right;\">\n",
       "      <th></th>\n",
       "      <th>name</th>\n",
       "      <th>amount</th>\n",
       "      <th>category</th>\n",
       "    </tr>\n",
       "    <tr>\n",
       "      <th>date</th>\n",
       "      <th></th>\n",
       "      <th></th>\n",
       "      <th></th>\n",
       "    </tr>\n",
       "  </thead>\n",
       "  <tbody>\n",
       "    <tr>\n",
       "      <th>2020-09-12</th>\n",
       "      <td>CREDIT CARD 3333 PAYMENT *//</td>\n",
       "      <td>25</td>\n",
       "      <td>Payment</td>\n",
       "    </tr>\n",
       "  </tbody>\n",
       "</table>\n",
       "</div>"
      ],
      "text/plain": [
       "                                    name amount category\n",
       "date                                                    \n",
       "2020-09-12  CREDIT CARD 3333 PAYMENT *//     25  Payment"
      ]
     },
     "execution_count": 57,
     "metadata": {},
     "output_type": "execute_result"
    }
   ],
   "source": [
    "# Set the date column as index\n",
    "plaid_transaction_df_new= plaid_transaction_df.set_index('date')\n",
    "# Display sample data\n",
    "plaid_transaction_df_new.sample()"
   ]
  },
  {
   "cell_type": "markdown",
   "metadata": {},
   "source": [
    "---"
   ]
  },
  {
   "cell_type": "markdown",
   "metadata": {},
   "source": [
    "# Income Analysis with Plaid\n",
    "\n",
    "In this section, you will use the Plaid Sandbox to complete the following:\n",
    "\n",
    "1. Determine the previous year's gross income and print the results\n",
    "\n",
    "2. Determine the current monthly income and print the results\n",
    "\n",
    "3. Determine the projected yearly income and print the results"
   ]
  },
  {
   "cell_type": "code",
   "execution_count": 41,
   "metadata": {},
   "outputs": [
    {
     "name": "stdout",
     "output_type": "stream",
     "text": [
      "{'income': {'income_streams': [{'confidence': 0.99, 'days': 690, 'monthly_income': 500, 'name': 'UNITED AIRLINES'}], 'last_year_income': 6000, 'last_year_income_before_tax': 7285, 'max_number_of_overlapping_income_streams': 1, 'number_of_income_streams': 1, 'projected_yearly_income': 6085, 'projected_yearly_income_before_tax': 7389}, 'request_id': '8DCBjLYfkJO7rXo'}\n"
     ]
    }
   ],
   "source": [
    "# Fetch de income data\n",
    "income_data= client.Income.get(access_token)\n",
    "# Print the income data\n",
    "print(income_data)"
   ]
  },
  {
   "cell_type": "code",
   "execution_count": 42,
   "metadata": {},
   "outputs": [
    {
     "data": {
      "text/plain": [
       "7285"
      ]
     },
     "execution_count": 42,
     "metadata": {},
     "output_type": "execute_result"
    }
   ],
   "source": [
    "# Determine the previous year's gross income and print the results\n",
    "income_data['income']['last_year_income_before_tax']"
   ]
  },
  {
   "cell_type": "code",
   "execution_count": 44,
   "metadata": {},
   "outputs": [
    {
     "data": {
      "text/plain": [
       "500"
      ]
     },
     "execution_count": 44,
     "metadata": {},
     "output_type": "execute_result"
    }
   ],
   "source": [
    "# Determine the current monthly income and print the results\n",
    "income_data['income']['income_streams'][0]['monthly_income']"
   ]
  },
  {
   "cell_type": "code",
   "execution_count": 45,
   "metadata": {},
   "outputs": [
    {
     "data": {
      "text/plain": [
       "6085"
      ]
     },
     "execution_count": 45,
     "metadata": {},
     "output_type": "execute_result"
    }
   ],
   "source": [
    "# Determine the projected yearly income and print the results\n",
    "income_data['income']['projected_yearly_income']"
   ]
  },
  {
   "cell_type": "markdown",
   "metadata": {},
   "source": [
    "---"
   ]
  },
  {
   "cell_type": "markdown",
   "metadata": {},
   "source": [
    "# Budget Analysis\n",
    "In this section, you will use the transactions DataFrame to analyze the customer's budget\n",
    "\n",
    "1. Calculate the total spending per category and print the results (Hint: groupby or count transactions per category)\n",
    "\n",
    "2. Generate a bar chart with the number of transactions for each category\n",
    "\n",
    "3. Calulate the expenses per month\n",
    "\n",
    "4. Plot the total expenses per month"
   ]
  },
  {
   "cell_type": "markdown",
   "metadata": {},
   "source": [
    "### Calculate the expenses per category"
   ]
  },
  {
   "cell_type": "code",
   "execution_count": 58,
   "metadata": {},
   "outputs": [
    {
     "data": {
      "text/plain": [
       "category\n",
       "Food and Drink     3317.19\n",
       "Payment            6310.50\n",
       "Recreation          235.50\n",
       "Shops              1500.00\n",
       "Transfer          20537.34\n",
       "Travel               35.19\n",
       "Name: amount, dtype: float64"
      ]
     },
     "execution_count": 58,
     "metadata": {},
     "output_type": "execute_result"
    }
   ],
   "source": [
    "# Compute the total expenses per category\n",
    "expenses_per_category= plaid_transaction_df_new.groupby('category').sum()['amount']\n",
    "\n",
    "# Display the expenses per catefory\n",
    "expenses_per_category"
   ]
  },
  {
   "cell_type": "code",
   "execution_count": 47,
   "metadata": {},
   "outputs": [
    {
     "data": {
      "text/plain": [
       "array([<AxesSubplot:ylabel='amount'>], dtype=object)"
      ]
     },
     "execution_count": 47,
     "metadata": {},
     "output_type": "execute_result"
    },
    {
     "data": {
      "image/png": "[encoded data removed]",
      "text/plain": [
       "<Figure size 504x504 with 1 Axes>"
      ]
     },
     "metadata": {},
     "output_type": "display_data"
    }
   ],
   "source": [
    "# Create a spending categories peie chart.\n",
    "expenses_per_category.plot.pie(subplots=True, figsize=(7,7))"
   ]
  },
  {
   "cell_type": "markdown",
   "metadata": {},
   "source": [
    "### Calculate the expenses per month"
   ]
  },
  {
   "cell_type": "code",
   "execution_count": 66,
   "metadata": {},
   "outputs": [],
   "source": [
    "# Create a DataFrame with the total expenses\n",
    "\n",
    "\n",
    "# Display sample data\n"
   ]
  },
  {
   "cell_type": "code",
   "execution_count": null,
   "metadata": {},
   "outputs": [],
   "source": [
    "# Create a spending per month bar chart\n"
   ]
  }
 ],
 "metadata": {
  "kernelspec": {
   "display_name": "Python 3",
   "language": "python",
   "name": "python3"
  },
  "language_info": {
   "codemirror_mode": {
    "name": "ipython",
    "version": 3
   },
   "file_extension": ".py",
   "mimetype": "text/x-python",
   "name": "python",
   "nbconvert_exporter": "python",
   "pygments_lexer": "ipython3",
   "version": "3.8.5"
  }
 },
 "nbformat": 4,
 "nbformat_minor": 4
}
